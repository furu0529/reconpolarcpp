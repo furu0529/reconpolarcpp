{
 "cells": [
  {
   "cell_type": "code",
   "execution_count": 1,
   "metadata": {},
   "outputs": [],
   "source": [
    "import optim\n",
    "import numpy as np\n",
    "from scipy.optimize import minimize, rosen, rosen_der"
   ]
  },
  {
   "cell_type": "code",
   "execution_count": 2,
   "metadata": {},
   "outputs": [
    {
     "data": {
      "text/plain": [
       "{'__name__': 'optim',\n",
       " '__doc__': None,\n",
       " '__package__': '',\n",
       " '__loader__': <_frozen_importlib_external.ExtensionFileLoader at 0x1092876a0>,\n",
       " '__spec__': ModuleSpec(name='optim', loader=<_frozen_importlib_external.ExtensionFileLoader object at 0x1092876a0>, origin='/Users/kokoorikunihiko/Desktop/reserch/juniorreserch/sumiyakun/simulationfit/optim.so'),\n",
       " 'optim': <function optim.optim>,\n",
       " 'plus_scalar': <function optim.plus_scalar>,\n",
       " '__file__': '/Users/kokoorikunihiko/Desktop/reserch/juniorreserch/sumiyakun/simulationfit/optim.so'}"
      ]
     },
     "execution_count": 2,
     "metadata": {},
     "output_type": "execute_result"
    }
   ],
   "source": [
    "vars(optim)"
   ]
  },
  {
   "cell_type": "code",
   "execution_count": 10,
   "metadata": {},
   "outputs": [
    {
     "name": "stdout",
     "output_type": "stream",
     "text": [
      "(512,) (4096,)\n"
     ]
    }
   ],
   "source": [
    "A=np.full(8*8*8,1e-7,dtype=np.double)\n",
    "print(A.shape,B.shape)"
   ]
  },
  {
   "cell_type": "code",
   "execution_count": 11,
   "metadata": {},
   "outputs": [
    {
     "data": {
      "text/plain": [
       "3.332720089571985e-08"
      ]
     },
     "execution_count": 11,
     "metadata": {},
     "output_type": "execute_result"
    }
   ],
   "source": [
    "optim.optim(A)"
   ]
  },
  {
   "cell_type": "code",
   "execution_count": null,
   "metadata": {},
   "outputs": [],
   "source": [
    "res = minimize(optim.optim,A, method='powell',options={'disp': True})"
   ]
  },
  {
   "cell_type": "code",
   "execution_count": null,
   "metadata": {},
   "outputs": [],
   "source": []
  },
  {
   "cell_type": "code",
   "execution_count": null,
   "metadata": {},
   "outputs": [],
   "source": []
  }
 ],
 "metadata": {
  "kernelspec": {
   "display_name": "Python 3",
   "language": "python",
   "name": "python3"
  },
  "language_info": {
   "codemirror_mode": {
    "name": "ipython",
    "version": 3
   },
   "file_extension": ".py",
   "mimetype": "text/x-python",
   "name": "python",
   "nbconvert_exporter": "python",
   "pygments_lexer": "ipython3",
   "version": "3.8.6"
  }
 },
 "nbformat": 4,
 "nbformat_minor": 4
}
