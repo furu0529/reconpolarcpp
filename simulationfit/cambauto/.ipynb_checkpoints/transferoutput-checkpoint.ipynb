{
 "cells": [
  {
   "cell_type": "code",
   "execution_count": 1,
   "metadata": {},
   "outputs": [],
   "source": [
    "import os\n",
    "import numpy as np\n",
    "import subprocess"
   ]
  },
  {
   "cell_type": "code",
   "execution_count": 4,
   "metadata": {},
   "outputs": [],
   "source": [
    "def make(zlist):\n",
    "#rangeでredshiftを指定する()\n",
    "    for i,z in enumerate(zlist):\n",
    "        with open(\"param.ini\", mode='rt', encoding='utf-8') as f:\n",
    "            read_data = f.read()\n",
    "            read_data = read_data.split(\"\\n\")\n",
    "        redshift=\"transfer_redshift(1)    = %s\"%z\n",
    "        #if(i>10):\n",
    "        filename=\"transfer_filename(1)    = transfer_z%.2f_pig.csv\"%z\n",
    "        #else:\n",
    "            #filename=\"transfer_filename(1)    = transfer_z%.2f_pig.csv\"%i\n",
    "        #print(redshift,filename)\n",
    "        #read_data.insert(170, redshift)\n",
    "        #read_data.insert(171, filename)\n",
    "        read_data[170]=redshift\n",
    "        read_data[171]=filename\n",
    "        print(\"%s\"%read_data[170])\n",
    "        print(\"%s\"%read_data[171])\n",
    "        with open(\"params.ini\", mode='w') as f:\n",
    "            read_data = \"\\n\".join(read_data) \n",
    "            for i in range(len(read_data)):\n",
    "                f.write(read_data[i])\n",
    "        os.system('make')\n",
    "        os.system('./camb params.ini')\n",
    "        del(read_data)\n",
    "    #read_data[i]=input(\"put the rewritten word: \")\n",
    "    #print(\"編集後データチェック:%s\"%read_data[170])\n",
    "    #print(\"編集後データチェック:%s\"%read_data[171])\n",
    "    "
   ]
  },
  {
   "cell_type": "code",
   "execution_count": null,
   "metadata": {},
   "outputs": [
    {
     "name": "stdout",
     "output_type": "stream",
     "text": [
      "20.20\n",
      "transfer_redshift(1)    = 20.0 transfer_filename(1)    = transfer_z20.00_pig.csv\n",
      "元データチェック:transfer_redshift(1)    = 9\n",
      "元データチェック:transfer_filename(1)    = transfer_z09_pig.csv\n",
      "データ編集後:transfer_redshift(1)    = 20.0\n",
      "データ編集後:transfer_filename(1)    = transfer_z20.00_pig.csv\n",
      "transfer_redshift(1)    = 20.1010101010101 transfer_filename(1)    = transfer_z20.10_pig.csv\n",
      "元データチェック:transfer_redshift(1)    = 9\n",
      "元データチェック:transfer_filename(1)    = transfer_z09_pig.csv\n",
      "データ編集後:transfer_redshift(1)    = 20.1010101010101\n",
      "データ編集後:transfer_filename(1)    = transfer_z20.10_pig.csv\n",
      "transfer_redshift(1)    = 20.2020202020202 transfer_filename(1)    = transfer_z20.20_pig.csv\n",
      "元データチェック:transfer_redshift(1)    = 9\n",
      "元データチェック:transfer_filename(1)    = transfer_z09_pig.csv\n",
      "データ編集後:transfer_redshift(1)    = 20.2020202020202\n",
      "データ編集後:transfer_filename(1)    = transfer_z20.20_pig.csv\n",
      "transfer_redshift(1)    = 20.303030303030305 transfer_filename(1)    = transfer_z20.30_pig.csv\n",
      "元データチェック:transfer_redshift(1)    = 9\n",
      "元データチェック:transfer_filename(1)    = transfer_z09_pig.csv\n",
      "データ編集後:transfer_redshift(1)    = 20.303030303030305\n",
      "データ編集後:transfer_filename(1)    = transfer_z20.30_pig.csv\n",
      "transfer_redshift(1)    = 20.404040404040405 transfer_filename(1)    = transfer_z20.40_pig.csv\n",
      "元データチェック:transfer_redshift(1)    = 9\n",
      "元データチェック:transfer_filename(1)    = transfer_z09_pig.csv\n",
      "データ編集後:transfer_redshift(1)    = 20.404040404040405\n",
      "データ編集後:transfer_filename(1)    = transfer_z20.40_pig.csv\n",
      "transfer_redshift(1)    = 20.505050505050505 transfer_filename(1)    = transfer_z20.51_pig.csv\n",
      "元データチェック:transfer_redshift(1)    = 9\n",
      "元データチェック:transfer_filename(1)    = transfer_z09_pig.csv\n",
      "データ編集後:transfer_redshift(1)    = 20.505050505050505\n",
      "データ編集後:transfer_filename(1)    = transfer_z20.51_pig.csv\n",
      "transfer_redshift(1)    = 20.606060606060606 transfer_filename(1)    = transfer_z20.61_pig.csv\n",
      "元データチェック:transfer_redshift(1)    = 9\n",
      "元データチェック:transfer_filename(1)    = transfer_z09_pig.csv\n",
      "データ編集後:transfer_redshift(1)    = 20.606060606060606\n",
      "データ編集後:transfer_filename(1)    = transfer_z20.61_pig.csv\n"
     ]
    }
   ],
   "source": [
    "\n",
    "make(zlist)"
   ]
  },
  {
   "cell_type": "code",
   "execution_count": null,
   "metadata": {},
   "outputs": [],
   "source": []
  },
  {
   "cell_type": "code",
   "execution_count": null,
   "metadata": {},
   "outputs": [],
   "source": []
  }
 ],
 "metadata": {
  "kernelspec": {
   "display_name": "Python 3",
   "language": "python",
   "name": "python3"
  },
  "language_info": {
   "codemirror_mode": {
    "name": "ipython",
    "version": 3
   },
   "file_extension": ".py",
   "mimetype": "text/x-python",
   "name": "python",
   "nbconvert_exporter": "python",
   "pygments_lexer": "ipython3",
   "version": "3.7.3"
  }
 },
 "nbformat": 4,
 "nbformat_minor": 2
}
