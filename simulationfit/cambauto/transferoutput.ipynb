{
 "cells": [
  {
   "cell_type": "code",
   "execution_count": 1,
   "metadata": {},
   "outputs": [],
   "source": [
    "import os\n",
    "import numpy as np\n",
    "import subprocess"
   ]
  },
  {
   "cell_type": "code",
   "execution_count": 12,
   "metadata": {},
   "outputs": [],
   "source": [
    "def make(zlist):\n",
    "#rangeでredshiftを指定する()\n",
    "    for i,z in enumerate(zlist):\n",
    "        with open(\"param.ini\", mode='rt', encoding='utf-8') as f:\n",
    "            read_data = f.read()\n",
    "            read_data = read_data.split(\"\\n\")\n",
    "        redshift=\"transfer_redshift(1)    = %s\"%z\n",
    "        #if(i>10):\n",
    "        filename=\"transfer_filename(1)    = transfer_z%.2f_pig.csv\"%z\n",
    "        #else:\n",
    "            #filename=\"transfer_filename(1)    = transfer_z%.2f_pig.csv\"%i\n",
    "        #print(redshift,filename)\n",
    "        #read_data.insert(170, redshift)\n",
    "        #read_data.insert(171, filename)\n",
    "        read_data[170]=redshift\n",
    "        read_data[171]=filename\n",
    "        print(\"%s\"%read_data[170])\n",
    "        print(\"%s\"%read_data[171])\n",
    "        with open(\"params.ini\", mode='w') as f:\n",
    "            read_data = \"\\n\".join(read_data) \n",
    "            for i in range(len(read_data)):\n",
    "                f.write(read_data[i])\n",
    "        os.system('make')\n",
    "        os.system('./camb params.ini')\n",
    "        del(read_data)\n",
    "    #read_data[i]=input(\"put the rewritten word: \")\n",
    "    #print(\"編集後データチェック:%s\"%read_data[170])\n",
    "    #print(\"編集後データチェック:%s\"%read_data[171])\n",
    "    "
   ]
  },
  {
   "cell_type": "code",
   "execution_count": 13,
   "metadata": {},
   "outputs": [
    {
     "name": "stdout",
     "output_type": "stream",
     "text": [
      "transfer_redshift(1)    = 0.0\n",
      "transfer_filename(1)    = transfer_z0.00_pig.csv\n",
      "transfer_redshift(1)    = 1.1111111111111112\n",
      "transfer_filename(1)    = transfer_z1.11_pig.csv\n",
      "transfer_redshift(1)    = 2.2222222222222223\n",
      "transfer_filename(1)    = transfer_z2.22_pig.csv\n",
      "transfer_redshift(1)    = 3.3333333333333335\n",
      "transfer_filename(1)    = transfer_z3.33_pig.csv\n",
      "transfer_redshift(1)    = 4.444444444444445\n",
      "transfer_filename(1)    = transfer_z4.44_pig.csv\n",
      "transfer_redshift(1)    = 5.555555555555555\n",
      "transfer_filename(1)    = transfer_z5.56_pig.csv\n",
      "transfer_redshift(1)    = 6.666666666666667\n",
      "transfer_filename(1)    = transfer_z6.67_pig.csv\n",
      "transfer_redshift(1)    = 7.777777777777779\n",
      "transfer_filename(1)    = transfer_z7.78_pig.csv\n",
      "transfer_redshift(1)    = 8.88888888888889\n",
      "transfer_filename(1)    = transfer_z8.89_pig.csv\n",
      "transfer_redshift(1)    = 10.0\n",
      "transfer_filename(1)    = transfer_z10.00_pig.csv\n"
     ]
    }
   ],
   "source": [
    "zlist=np.linspace(0,10,10)\n",
    "make(zlist)"
   ]
  },
  {
   "cell_type": "code",
   "execution_count": null,
   "metadata": {},
   "outputs": [],
   "source": []
  },
  {
   "cell_type": "code",
   "execution_count": null,
   "metadata": {},
   "outputs": [],
   "source": []
  }
 ],
 "metadata": {
  "kernelspec": {
   "display_name": "Python 3",
   "language": "python",
   "name": "python3"
  },
  "language_info": {
   "codemirror_mode": {
    "name": "ipython",
    "version": 3
   },
   "file_extension": ".py",
   "mimetype": "text/x-python",
   "name": "python",
   "nbconvert_exporter": "python",
   "pygments_lexer": "ipython3",
   "version": "3.7.3"
  }
 },
 "nbformat": 4,
 "nbformat_minor": 2
}
