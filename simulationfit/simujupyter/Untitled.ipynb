{
 "cells": [
  {
   "cell_type": "code",
   "execution_count": 10,
   "metadata": {},
   "outputs": [
    {
     "ename": "OSError",
     "evalue": "dlopen(/Users/kokoorikunihiko/Library/Python/3.7/lib/python/site-packages/camb/camblib.so, 6): Library not loaded: /usr/local/opt/gcc/lib/gcc/9/libgfortran.5.dylib\n  Referenced from: /Users/kokoorikunihiko/Library/Python/3.7/lib/python/site-packages/camb/camblib.so\n  Reason: image not found",
     "output_type": "error",
     "traceback": [
      "\u001b[0;31m---------------------------------------------------------------------------\u001b[0m",
      "\u001b[0;31mOSError\u001b[0m                                   Traceback (most recent call last)",
      "\u001b[0;32m<ipython-input-10-3d8de8a7ea92>\u001b[0m in \u001b[0;36m<module>\u001b[0;34m\u001b[0m\n\u001b[1;32m     18\u001b[0m \u001b[0;32mimport\u001b[0m \u001b[0mwarnings\u001b[0m\u001b[0;34m\u001b[0m\u001b[0;34m\u001b[0m\u001b[0m\n\u001b[1;32m     19\u001b[0m \u001b[0mwarnings\u001b[0m\u001b[0;34m.\u001b[0m\u001b[0mfilterwarnings\u001b[0m\u001b[0;34m(\u001b[0m\u001b[0;34m'ignore'\u001b[0m\u001b[0;34m)\u001b[0m\u001b[0;34m\u001b[0m\u001b[0;34m\u001b[0m\u001b[0m\n\u001b[0;32m---> 20\u001b[0;31m \u001b[0;32mimport\u001b[0m \u001b[0mcamb\u001b[0m\u001b[0;34m\u001b[0m\u001b[0;34m\u001b[0m\u001b[0m\n\u001b[0m",
      "\u001b[0;32m~/Library/Python/3.7/lib/python/site-packages/camb/__init__.py\u001b[0m in \u001b[0;36m<module>\u001b[0;34m\u001b[0m\n\u001b[1;32m     10\u001b[0m \u001b[0m__version__\u001b[0m \u001b[0;34m=\u001b[0m \u001b[0;34m\"1.1.3\"\u001b[0m\u001b[0;34m\u001b[0m\u001b[0;34m\u001b[0m\u001b[0m\n\u001b[1;32m     11\u001b[0m \u001b[0;34m\u001b[0m\u001b[0m\n\u001b[0;32m---> 12\u001b[0;31m \u001b[0;32mfrom\u001b[0m \u001b[0;34m.\u001b[0m \u001b[0;32mimport\u001b[0m \u001b[0mbaseconfig\u001b[0m\u001b[0;34m\u001b[0m\u001b[0;34m\u001b[0m\u001b[0m\n\u001b[0m\u001b[1;32m     13\u001b[0m \u001b[0;34m\u001b[0m\u001b[0m\n\u001b[1;32m     14\u001b[0m \u001b[0mbaseconfig\u001b[0m\u001b[0;34m.\u001b[0m\u001b[0mcheck_fortran_version\u001b[0m\u001b[0;34m(\u001b[0m\u001b[0m__version__\u001b[0m\u001b[0;34m)\u001b[0m\u001b[0;34m\u001b[0m\u001b[0;34m\u001b[0m\u001b[0m\n",
      "\u001b[0;32m~/Library/Python/3.7/lib/python/site-packages/camb/baseconfig.py\u001b[0m in \u001b[0;36m<module>\u001b[0;34m\u001b[0m\n\u001b[1;32m     49\u001b[0m             % CAMBL)\n\u001b[1;32m     50\u001b[0m \u001b[0;34m\u001b[0m\u001b[0m\n\u001b[0;32m---> 51\u001b[0;31m     \u001b[0mcamblib\u001b[0m \u001b[0;34m=\u001b[0m \u001b[0mctypes\u001b[0m\u001b[0;34m.\u001b[0m\u001b[0mLibraryLoader\u001b[0m\u001b[0;34m(\u001b[0m\u001b[0mIfortGfortranLoader\u001b[0m\u001b[0;34m)\u001b[0m\u001b[0;34m.\u001b[0m\u001b[0mLoadLibrary\u001b[0m\u001b[0;34m(\u001b[0m\u001b[0mCAMBL\u001b[0m\u001b[0;34m)\u001b[0m\u001b[0;34m\u001b[0m\u001b[0;34m\u001b[0m\u001b[0m\n\u001b[0m\u001b[1;32m     52\u001b[0m \u001b[0;34m\u001b[0m\u001b[0m\n\u001b[1;32m     53\u001b[0m     \u001b[0;32mtry\u001b[0m\u001b[0;34m:\u001b[0m\u001b[0;34m\u001b[0m\u001b[0;34m\u001b[0m\u001b[0m\n",
      "\u001b[0;32m/Library/Developer/CommandLineTools/Library/Frameworks/Python3.framework/Versions/3.7/lib/python3.7/ctypes/__init__.py\u001b[0m in \u001b[0;36mLoadLibrary\u001b[0;34m(self, name)\u001b[0m\n\u001b[1;32m    424\u001b[0m \u001b[0;34m\u001b[0m\u001b[0m\n\u001b[1;32m    425\u001b[0m     \u001b[0;32mdef\u001b[0m \u001b[0mLoadLibrary\u001b[0m\u001b[0;34m(\u001b[0m\u001b[0mself\u001b[0m\u001b[0;34m,\u001b[0m \u001b[0mname\u001b[0m\u001b[0;34m)\u001b[0m\u001b[0;34m:\u001b[0m\u001b[0;34m\u001b[0m\u001b[0;34m\u001b[0m\u001b[0m\n\u001b[0;32m--> 426\u001b[0;31m         \u001b[0;32mreturn\u001b[0m \u001b[0mself\u001b[0m\u001b[0;34m.\u001b[0m\u001b[0m_dlltype\u001b[0m\u001b[0;34m(\u001b[0m\u001b[0mname\u001b[0m\u001b[0;34m)\u001b[0m\u001b[0;34m\u001b[0m\u001b[0;34m\u001b[0m\u001b[0m\n\u001b[0m\u001b[1;32m    427\u001b[0m \u001b[0;34m\u001b[0m\u001b[0m\n\u001b[1;32m    428\u001b[0m \u001b[0mcdll\u001b[0m \u001b[0;34m=\u001b[0m \u001b[0mLibraryLoader\u001b[0m\u001b[0;34m(\u001b[0m\u001b[0mCDLL\u001b[0m\u001b[0;34m)\u001b[0m\u001b[0;34m\u001b[0m\u001b[0;34m\u001b[0m\u001b[0m\n",
      "\u001b[0;32m/Library/Developer/CommandLineTools/Library/Frameworks/Python3.framework/Versions/3.7/lib/python3.7/ctypes/__init__.py\u001b[0m in \u001b[0;36m__init__\u001b[0;34m(self, name, mode, handle, use_errno, use_last_error)\u001b[0m\n\u001b[1;32m    346\u001b[0m \u001b[0;34m\u001b[0m\u001b[0m\n\u001b[1;32m    347\u001b[0m         \u001b[0;32mif\u001b[0m \u001b[0mhandle\u001b[0m \u001b[0;32mis\u001b[0m \u001b[0;32mNone\u001b[0m\u001b[0;34m:\u001b[0m\u001b[0;34m\u001b[0m\u001b[0;34m\u001b[0m\u001b[0m\n\u001b[0;32m--> 348\u001b[0;31m             \u001b[0mself\u001b[0m\u001b[0;34m.\u001b[0m\u001b[0m_handle\u001b[0m \u001b[0;34m=\u001b[0m \u001b[0m_dlopen\u001b[0m\u001b[0;34m(\u001b[0m\u001b[0mself\u001b[0m\u001b[0;34m.\u001b[0m\u001b[0m_name\u001b[0m\u001b[0;34m,\u001b[0m \u001b[0mmode\u001b[0m\u001b[0;34m)\u001b[0m\u001b[0;34m\u001b[0m\u001b[0;34m\u001b[0m\u001b[0m\n\u001b[0m\u001b[1;32m    349\u001b[0m         \u001b[0;32melse\u001b[0m\u001b[0;34m:\u001b[0m\u001b[0;34m\u001b[0m\u001b[0;34m\u001b[0m\u001b[0m\n\u001b[1;32m    350\u001b[0m             \u001b[0mself\u001b[0m\u001b[0;34m.\u001b[0m\u001b[0m_handle\u001b[0m \u001b[0;34m=\u001b[0m \u001b[0mhandle\u001b[0m\u001b[0;34m\u001b[0m\u001b[0;34m\u001b[0m\u001b[0m\n",
      "\u001b[0;31mOSError\u001b[0m: dlopen(/Users/kokoorikunihiko/Library/Python/3.7/lib/python/site-packages/camb/camblib.so, 6): Library not loaded: /usr/local/opt/gcc/lib/gcc/9/libgfortran.5.dylib\n  Referenced from: /Users/kokoorikunihiko/Library/Python/3.7/lib/python/site-packages/camb/camblib.so\n  Reason: image not found"
     ]
    }
   ],
   "source": [
    "%matplotlib inline\n",
    "%config InlineBackend.figure_format = 'retina' \n",
    "import sys, platform, os\n",
    "import matplotlib\n",
    "from matplotlib import pyplot as plt\n",
    "import numpy as np\n",
    "from scipy import interpolate\n",
    "import math\n",
    "from matplotlib import ticker, cm, colors \n",
    "import matplotlib.cm as cm\n",
    "from matplotlib.colors import LogNorm\n",
    "from numba import jit\n",
    "from numba import prange\n",
    "from scipy.special import sph_harm\n",
    "from scipy.optimize import minimize\n",
    "import time\n",
    "import glob\n",
    "import warnings \n",
    "warnings.filterwarnings('ignore')\n",
    "import camb"
   ]
  },
  {
   "cell_type": "code",
   "execution_count": 14,
   "metadata": {},
   "outputs": [
    {
     "ename": "NameError",
     "evalue": "name 'camb' is not defined",
     "output_type": "error",
     "traceback": [
      "\u001b[0;31m---------------------------------------------------------------------------\u001b[0m",
      "\u001b[0;31mNameError\u001b[0m                                 Traceback (most recent call last)",
      "\u001b[0;32m<ipython-input-14-905d937e236b>\u001b[0m in \u001b[0;36m<module>\u001b[0;34m\u001b[0m\n\u001b[0;32m----> 1\u001b[0;31m \u001b[0mpars\u001b[0m \u001b[0;34m=\u001b[0m \u001b[0mcamb\u001b[0m\u001b[0;34m.\u001b[0m\u001b[0mCAMBparams\u001b[0m\u001b[0;34m(\u001b[0m\u001b[0;34m)\u001b[0m\u001b[0;34m\u001b[0m\u001b[0;34m\u001b[0m\u001b[0m\n\u001b[0m\u001b[1;32m      2\u001b[0m \u001b[0mpars\u001b[0m\u001b[0;34m.\u001b[0m\u001b[0mset_cosmology\u001b[0m\u001b[0;34m(\u001b[0m\u001b[0mH0\u001b[0m\u001b[0;34m=\u001b[0m\u001b[0;36m67.5\u001b[0m\u001b[0;34m,\u001b[0m \u001b[0mombh2\u001b[0m\u001b[0;34m=\u001b[0m\u001b[0;36m0.022\u001b[0m\u001b[0;34m,\u001b[0m \u001b[0momch2\u001b[0m\u001b[0;34m=\u001b[0m\u001b[0;36m0.122\u001b[0m\u001b[0;34m)\u001b[0m\u001b[0;34m\u001b[0m\u001b[0;34m\u001b[0m\u001b[0m\n\u001b[1;32m      3\u001b[0m \u001b[0mpars\u001b[0m\u001b[0;34m.\u001b[0m\u001b[0mInitPower\u001b[0m\u001b[0;34m.\u001b[0m\u001b[0mset_params\u001b[0m\u001b[0;34m(\u001b[0m\u001b[0mns\u001b[0m\u001b[0;34m=\u001b[0m\u001b[0;36m0.965\u001b[0m\u001b[0;34m)\u001b[0m\u001b[0;34m\u001b[0m\u001b[0;34m\u001b[0m\u001b[0m\n\u001b[1;32m      4\u001b[0m \u001b[0mpars\u001b[0m\u001b[0;34m.\u001b[0m\u001b[0mset_matter_power\u001b[0m\u001b[0;34m(\u001b[0m\u001b[0mredshifts\u001b[0m\u001b[0;34m=\u001b[0m\u001b[0;34m[\u001b[0m\u001b[0;36m0\u001b[0m\u001b[0;34m]\u001b[0m\u001b[0;34m,\u001b[0m\u001b[0mkmax\u001b[0m\u001b[0;34m=\u001b[0m\u001b[0;36m100\u001b[0m\u001b[0;34m)\u001b[0m\u001b[0;34m\u001b[0m\u001b[0;34m\u001b[0m\u001b[0m\n\u001b[1;32m      5\u001b[0m \u001b[0mresults\u001b[0m\u001b[0;34m=\u001b[0m \u001b[0mcamb\u001b[0m\u001b[0;34m.\u001b[0m\u001b[0mget_results\u001b[0m\u001b[0;34m(\u001b[0m\u001b[0mpars\u001b[0m\u001b[0;34m)\u001b[0m\u001b[0;34m\u001b[0m\u001b[0;34m\u001b[0m\u001b[0m\n",
      "\u001b[0;31mNameError\u001b[0m: name 'camb' is not defined"
     ]
    }
   ],
   "source": [
    "pars = camb.CAMBparams()\n",
    "pars.set_cosmology(H0=67.5, ombh2=0.022, omch2=0.122) \n",
    "pars.InitPower.set_params(ns=0.965) \n",
    "pars.set_matter_power(redshifts=[0],kmax=100) \n",
    "results= camb.get_results(pars)\n",
    "trans = results.get_matter_transfer_data()\n",
    "kh = trans.transfer_data[0,:,0]\n",
    "P_k_ini = interpolate.interp1d(kh, results.Params.scalar_power(kh), kind='linear')"
   ]
  },
  {
   "cell_type": "code",
   "execution_count": 15,
   "metadata": {},
   "outputs": [
    {
     "ename": "NameError",
     "evalue": "name 'kh' is not defined",
     "output_type": "error",
     "traceback": [
      "\u001b[0;31m---------------------------------------------------------------------------\u001b[0m",
      "\u001b[0;31mNameError\u001b[0m                                 Traceback (most recent call last)",
      "\u001b[0;32m<ipython-input-15-1bc47513cd89>\u001b[0m in \u001b[0;36m<module>\u001b[0;34m\u001b[0m\n\u001b[0;32m----> 1\u001b[0;31m \u001b[0mplt\u001b[0m\u001b[0;34m.\u001b[0m\u001b[0mloglog\u001b[0m\u001b[0;34m(\u001b[0m\u001b[0mkh\u001b[0m\u001b[0;34m,\u001b[0m\u001b[0mP_k_ini\u001b[0m\u001b[0;34m(\u001b[0m\u001b[0mkh\u001b[0m\u001b[0;34m)\u001b[0m\u001b[0;34m)\u001b[0m\u001b[0;34m\u001b[0m\u001b[0;34m\u001b[0m\u001b[0m\n\u001b[0m",
      "\u001b[0;31mNameError\u001b[0m: name 'kh' is not defined"
     ]
    }
   ],
   "source": [
    "plt.loglog(kh,P_k_ini(kh))"
   ]
  },
  {
   "cell_type": "code",
   "execution_count": 16,
   "metadata": {},
   "outputs": [
    {
     "ename": "SyntaxError",
     "evalue": "invalid syntax (<ipython-input-16-061ecfa9c06d>, line 3)",
     "output_type": "error",
     "traceback": [
      "\u001b[0;36m  File \u001b[0;32m\"<ipython-input-16-061ecfa9c06d>\"\u001b[0;36m, line \u001b[0;32m3\u001b[0m\n\u001b[0;31m    pars.set_cosmology(H0=67.5, ombh2=0.022, omch2=0.122) pars.InitPower.set_params(ns=0.965)\u001b[0m\n\u001b[0m                                                             ^\u001b[0m\n\u001b[0;31mSyntaxError\u001b[0m\u001b[0;31m:\u001b[0m invalid syntax\n"
     ]
    }
   ],
   "source": [
    "transfer_model = model.Transfer_cdm\n",
    "pars = camb.CAMBparams()\n",
    "pars.set_cosmology(H0=67.5, ombh2=0.022, omch2=0.122) pars.InitPower.set_params(ns=0.965)\n",
    "pars.set_matter_power(redshifts=[0],kmax=100)\n",
    "results= camb.get_results(pars)\n",
    "trans = results.get_matter_transfer_data()\n",
    "transfer = trans.transfer_data[transfer_model-1,:,0]\n",
    "kh = trans.transfer_data[0,:,0]\n",
    "transfer_function_cdm = interpolate.interp1d(kh, transfer, kind='linear')\n",
    "P_k_ini = interpolate.interp1d(kh, results.Params.scalar_power(kh), kind='linear') def P_k(k):\n",
    "return (P_k_ini(k)*(transfer_function_pot(k)**2)*(k**4))*(results.hubble_parameter(0)*0.01)**3/(k**3/(2*np.p i**2))"
   ]
  },
  {
   "cell_type": "code",
   "execution_count": 18,
   "metadata": {},
   "outputs": [
    {
     "ename": "NameError",
     "evalue": "name 'kh' is not defined",
     "output_type": "error",
     "traceback": [
      "\u001b[0;31m---------------------------------------------------------------------------\u001b[0m",
      "\u001b[0;31mNameError\u001b[0m                                 Traceback (most recent call last)",
      "\u001b[0;32m<ipython-input-18-ab77c51f9a7c>\u001b[0m in \u001b[0;36m<module>\u001b[0;34m\u001b[0m\n\u001b[0;32m----> 1\u001b[0;31m \u001b[0mplt\u001b[0m\u001b[0;34m.\u001b[0m\u001b[0mloglog\u001b[0m\u001b[0;34m(\u001b[0m\u001b[0mkh\u001b[0m\u001b[0;34m,\u001b[0m\u001b[0;36m2\u001b[0m\u001b[0;34m*\u001b[0m\u001b[0mnp\u001b[0m\u001b[0;34m.\u001b[0m\u001b[0mpi\u001b[0m\u001b[0;34m**\u001b[0m\u001b[0;36m2\u001b[0m\u001b[0;34m*\u001b[0m\u001b[0mtransfer_function_cdm\u001b[0m\u001b[0;34m(\u001b[0m\u001b[0mkh\u001b[0m\u001b[0;34m)\u001b[0m\u001b[0;34m**\u001b[0m\u001b[0;36m2\u001b[0m\u001b[0;34m*\u001b[0m\u001b[0;34m(\u001b[0m\u001b[0mP_k_ini\u001b[0m\u001b[0;34m(\u001b[0m\u001b[0mkh\u001b[0m\u001b[0;34m)\u001b[0m\u001b[0;34m)\u001b[0m\u001b[0;34m*\u001b[0m\u001b[0mkh\u001b[0m\u001b[0;34m)\u001b[0m\u001b[0;34m\u001b[0m\u001b[0;34m\u001b[0m\u001b[0m\n\u001b[0m\u001b[1;32m      2\u001b[0m \u001b[0mplt\u001b[0m\u001b[0;34m.\u001b[0m\u001b[0mscatter\u001b[0m\u001b[0;34m(\u001b[0m\u001b[0mkh\u001b[0m\u001b[0;34m,\u001b[0m\u001b[0mnp\u001b[0m\u001b[0;34m.\u001b[0m\u001b[0mrandom\u001b[0m\u001b[0;34m.\u001b[0m\u001b[0mnormal\u001b[0m\u001b[0;34m(\u001b[0m\u001b[0;36m0\u001b[0m\u001b[0;34m,\u001b[0m\u001b[0;36m2\u001b[0m\u001b[0;34m*\u001b[0m\u001b[0mnp\u001b[0m\u001b[0;34m.\u001b[0m\u001b[0mpi\u001b[0m\u001b[0;34m**\u001b[0m\u001b[0;36m2\u001b[0m\u001b[0;34m*\u001b[0m\u001b[0mtransfer_function_cdm\u001b[0m\u001b[0;34m(\u001b[0m\u001b[0mkh\u001b[0m\u001b[0;34m)\u001b[0m\u001b[0;34m**\u001b[0m\u001b[0;36m2\u001b[0m\u001b[0;34m*\u001b[0m\u001b[0;34m(\u001b[0m\u001b[0mP_k_ini\u001b[0m\u001b[0;34m(\u001b[0m\u001b[0mkh\u001b[0m\u001b[0;34m)\u001b[0m\u001b[0;34m)\u001b[0m\u001b[0;34m*\u001b[0m\u001b[0mkh\u001b[0m\u001b[0;34m)\u001b[0m\u001b[0;34m)\u001b[0m\u001b[0;34m\u001b[0m\u001b[0;34m\u001b[0m\u001b[0m\n",
      "\u001b[0;31mNameError\u001b[0m: name 'kh' is not defined"
     ]
    }
   ],
   "source": [
    "plt.loglog(kh,2*np.pi**2*transfer_function_cdm(kh)**2*(P_k_ini(kh))*kh) \n",
    "plt.scatter(kh,np.random.normal(0,2*np.pi**2*transfer_function_cdm(kh)**2*(P_k_ini(kh))*kh))"
   ]
  },
  {
   "cell_type": "code",
   "execution_count": 19,
   "metadata": {},
   "outputs": [
    {
     "ename": "SyntaxError",
     "evalue": "invalid syntax (<ipython-input-19-ebcf892dc77e>, line 2)",
     "output_type": "error",
     "traceback": [
      "\u001b[0;36m  File \u001b[0;32m\"<ipython-input-19-ebcf892dc77e>\"\u001b[0;36m, line \u001b[0;32m2\u001b[0m\n\u001b[0;31m    H0 = pars.H0*np.sqrt(Omega_m)*(1+1000)*1.5 H0 = pars.H0\u001b[0m\n\u001b[0m                                                ^\u001b[0m\n\u001b[0;31mSyntaxError\u001b[0m\u001b[0;31m:\u001b[0m invalid syntax\n"
     ]
    }
   ],
   "source": [
    "Omega_m = 0.3\n",
    "H0 = pars.H0*np.sqrt(Omega_m)*(1+1000)*1.5 H0 = pars.H0\n",
    "def gravitational_power(k):\n",
    "return (9/4)*(Omega_m**2)*((H0*3*1e-5)**2)*P_k_ini(k)/k**4"
   ]
  },
  {
   "cell_type": "code",
   "execution_count": 20,
   "metadata": {},
   "outputs": [
    {
     "ename": "NameError",
     "evalue": "name 'kh' is not defined",
     "output_type": "error",
     "traceback": [
      "\u001b[0;31m---------------------------------------------------------------------------\u001b[0m",
      "\u001b[0;31mNameError\u001b[0m                                 Traceback (most recent call last)",
      "\u001b[0;32m<ipython-input-20-3efeb499cb37>\u001b[0m in \u001b[0;36m<module>\u001b[0;34m\u001b[0m\n\u001b[0;32m----> 1\u001b[0;31m \u001b[0mplt\u001b[0m\u001b[0;34m.\u001b[0m\u001b[0mloglog\u001b[0m\u001b[0;34m(\u001b[0m\u001b[0mkh\u001b[0m\u001b[0;34m,\u001b[0m\u001b[0mgravitational_power\u001b[0m\u001b[0;34m(\u001b[0m\u001b[0mkh\u001b[0m\u001b[0;34m)\u001b[0m\u001b[0;34m)\u001b[0m\u001b[0;34m\u001b[0m\u001b[0;34m\u001b[0m\u001b[0m\n\u001b[0m",
      "\u001b[0;31mNameError\u001b[0m: name 'kh' is not defined"
     ]
    }
   ],
   "source": [
    "plt.loglog(kh,gravitational_power(kh))"
   ]
  },
  {
   "cell_type": "code",
   "execution_count": null,
   "metadata": {},
   "outputs": [],
   "source": [
    "transfer_pig = np.loadtxt(\"transfer/test_transfer_z01_pig.csv\", delimiter=\" \", skiprows=0, usecols=14) \n",
    "kh = np.loadtxt(\"transfer/test_transfer_z01_pig.csv\", delimiter=\" \", skiprows=0, usecols=1)*0.675 \n",
    "transfer_function = interpolate.interp1d(kh, transfer_pig, kind='linear') \n",
    "#plt.semilogx(kh,transfer_function(kh))\n",
    "def make_QU(bins,grid,L):\n",
    "k_posi = np.arange(0,bins,1)*(2*np.pi/L) \n",
    "k_nega = np.arange(-bins,0,1)*(2*np.pi/L) \n",
    "k = np.hstack((k_posi, k_nega))\n",
    "k_vec = np.zeros((3,grid))\n",
    "#norm = np.zeros(grid,grid,bins)\n",
    "for i in range(3):\n",
    "k_vec[i,:] = k\n",
    "norm = np.sqrt((k_vec[0]**2)[:,None,None]+(k_vec[1]**2)[None,:,None]+(k_vec[2]**2)[None,None,:]) \n",
    "#norm = norm[:,:,:bins]\n",
    "inner_x = (k_vec[0])[:,None,None]/norm\n",
    "inner_y = (k_vec[1])[None,:,None]/norm\n",
    "inner_z = (k_vec[2])[None,None,:]/norm \n",
    "inner_x[0,0,0]=0\n",
    "inner_y[0,0,0]=0\n",
    "inner_z[0,0,0]=0\n",
    "norm[0,0,0]=1e-3 np.random.seed(3)\n",
    "theta = 2*np.random.rand(grid,grid,bins)*np.pi#128,256,256\n",
    "#波数空間上での\\phi,\\theta\n",
    "Y_theta = np.arccos(inner_z)#\\theta\n",
    "Y_phi = np.arccos(inner_x/np.sin(Y_theta))#\\phi for i in range(grid):\n",
    "for k in range(grid):\n",
    "if np.isnan(Y_phi[i,0,k]) == True:\n",
    "Y_phi[i,0,k] = 0 np.random.seed(4)\n",
    "initial = np.random.normal(0,np.sqrt(P_k_ini(norm[:,:,:bins])))*np.exp(1j*theta) \n",
    "k_box = np.zeros((5,grid,grid,grid),dtype=complex)\n",
    "delta_k = np.sqrt(2*(np.pi**2)*norm[:,:,:bins])*transfer_function(norm[:,:,:bins])*initial\n",
    "k_box_harm = np.zeros((5,grid,grid,grid),dtype=complex) \n",
    "for m in range(5):\n",
    "    Y_2m = np.zeros((grid,grid,grid),dtype=complex)\n",
    "    Y_2m[:,:,:bins] = sph_harm(m-2, 2, Y_phi[:,:,:bins], Y_theta[:,:,:bins]).conjugate() \n",
    "    k_box[m,1:,1:,1:bins] = delta_k[1:,1:,1:bins] \n",
    "    k_box[m,grid:0:-1,grid:0:-1,grid:bins:-1] = k_box[m,1:,1:,1:bins].conjugate() \n",
    "    Y_2m[grid:0:-1,grid:0:-1,grid:bins:-1] = Y_2m[1:,1:,1:bins]\n",
    "    #平面状の数値生成\n",
    "    #kz-kx平面上\n",
    "    k_box[m,:,0,1:bins] = delta_k[:,0,1:bins]\n",
    "    k_box[m,grid:0:-1,0,grid:bins:-1] = k_box[m,1:,0,1:bins].conjugate() \n",
    "    Y_2m[grid:0:-1,0,grid:bins:-1] = Y_2m[1:,0,1:bins]\n",
    "    #kx-ky平面上\n",
    "    k_box[m,:,1:bins,0]= delta_k[:,1:bins,0]\n",
    "    k_box[m,grid:0:-1,grid:bins:-1,0] = k_box[m,1:,1:bins,0].conjugate() \n",
    "    Y_2m[grid:0:-1,grid:bins:-1,0] = Y_2m[1:,1:bins,0]\n",
    "    #ky-kz平面上\n",
    "    k_box[m,0,:,1:bins] = delta_k[0,:,1:bins]\n",
    "    k_box[m,0,grid:0:-1,grid:bins:-1] = k_box[m,0,1:,1:bins].conjugate() \n",
    "    Y_2m[0,grid:0:-1,grid:bins:-1] = Y_2m[0,1:,1:bins]\n",
    "    #z軸上\n",
    "    k_box[m,0,0,1:bins] = delta_k[0,0,1:bins]\n",
    "    k_box[m,0,0,grid:bins:-1] = k_box[m,0,0,1:bins].conjugate()\n",
    "    Y_2m[0,0,grid:bins:-1] = Y_2m[0,0,1:bins]\n",
    "    #y軸上\n",
    "    k_box[m,0,1:bins,0]= delta_k[0,1:bins,0]\n",
    "    k_box[m,0,grid:bins:-1,0] = k_box[m,0,1:bins,0].conjugate()\n",
    "    Y_2m[0,grid:bins:-1,0] = Y_2m[0,1:bins,0]\n",
    "    #x軸上\n",
    "    k_box[m,1:bins,0,0] = delta_k[1:bins,0,0]\n",
    "    k_box[m,grid:bins:-1,0,0] = k_box[m,1:bins,0,0].conjugate()\n",
    "    Y_2m[grid:bins:-1,0,0] = Y_2m[1:bins,0,0]\n",
    "\n",
    "\n",
    "    k_box_harm[m,:,:,:] = Y_2m*k_box[m,:,:,:]\n",
    "k_box_harm[:,bins,:,:] = 0 \n",
    "k_box_harm[:,:,bins,:] = 0 \n",
    "k_box_harm[:,:,:,bins] = 0 \n",
    "k_box_harm[:,0,0,0] = 0"
   ]
  }
 ],
 "metadata": {
  "kernelspec": {
   "display_name": "Python 3",
   "language": "python",
   "name": "python3"
  },
  "language_info": {
   "codemirror_mode": {
    "name": "ipython",
    "version": 3
   },
   "file_extension": ".py",
   "mimetype": "text/x-python",
   "name": "python",
   "nbconvert_exporter": "python",
   "pygments_lexer": "ipython3",
   "version": "3.7.3"
  }
 },
 "nbformat": 4,
 "nbformat_minor": 4
}
